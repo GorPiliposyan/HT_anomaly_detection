{
 "cells": [
  {
   "cell_type": "code",
   "execution_count": 1,
   "metadata": {},
   "outputs": [],
   "source": [
    "%matplotlib inline"
   ]
  },
  {
   "cell_type": "code",
   "execution_count": 2,
   "metadata": {},
   "outputs": [],
   "source": [
    "import pandas as pd\n",
    "import numpy as np\n",
    "from sklearn.model_selection import KFold\n",
    "import matplotlib.pyplot as plt\n",
    "import matplotlib.font_manager\n",
    "from sklearn import svm\n",
    "import datetime\n",
    "from sklearn.metrics import confusion_matrix, accuracy_score, f1_score, precision_score, recall_score\n"
   ]
  },
  {
   "cell_type": "code",
   "execution_count": 3,
   "metadata": {},
   "outputs": [],
   "source": [
    "def load_data(path, rows = 300000):\n",
    "    \"\"\"\n",
    "    Load the training data\n",
    "    rows --> maximum number of rows to load from the dataset\n",
    "\n",
    "    \"\"\"\n",
    "    data = pd.read_csv(path, header=None, sep=',')\n",
    "    data = data.drop_duplicates()\n",
    "    data = data.sample(frac = 1)\n",
    "    data = data.reset_index(drop=True)\n",
    "    data = data[:rows]\n",
    "    data.columns = ['B1', 'C1', 'A2', 'B2', 'C2', 'ma_B1', 'ma_C1', 'ma_A2', 'ma_B2', 'ma_C2']\n",
    "    \n",
    "    return data[['B1', 'C1', 'B2']]\n",
    "\n",
    "def load_data_test(path, rows = 25000):\n",
    "    \"\"\"\n",
    "    Load the testing data (HT clean and HT contaminated)\n",
    "    rows --> maximum number of rows to load from the dataset\n",
    "    \n",
    "    \"\"\"\n",
    "    data = pd.read_csv(path, header=None, sep=',')\n",
    "    data = data.sample(frac = 1)\n",
    "    data = data.reset_index(drop=True)\n",
    "    data = data[:rows]\n",
    "#     data.columns = ['1', '2', '3', '4', '5', 'MA_col1', 'MA_col2', 'MA_col3', 'MA_col4', 'MA_col5']\n",
    "    data.columns = ['B1', 'C1', 'A2', 'B2', 'C2', 'ma_B1', 'ma_C1', 'ma_A2', 'ma_B2', 'ma_C2']\n",
    "    # data = data.drop_duplicates()\n",
    "    return data[['B1', 'C1', 'B2']]"
   ]
  },
  {
   "cell_type": "code",
   "execution_count": 4,
   "metadata": {},
   "outputs": [],
   "source": [
    "# Define number of rows to load from the dataset\n",
    "Number_of_train_rows = 10000 \n",
    "Number_of_test_rows = 25000  # This is only half of the overall test dataframe, since we append HT-clean to HT-contaminated\n",
    "\n",
    "\n",
    "# Load the dataframes\n",
    "\n",
    "train_file_path  = r'C:\\Users\\Gor\\Desktop\\New_experiments\\Important_files-3\\new_DATA\\Split_into_train_test\\HT3_3\\4\\my_training_data.txt'\n",
    "test_file_path   = r'C:\\Users\\Gor\\Desktop\\New_experiments\\Important_files-3\\new_DATA\\Split_into_train_test\\HT3_3\\4\\my_testing_data.txt'\n",
    "trojan_file_path = r'C:\\Users\\Gor\\Desktop\\New_experiments\\Important_files-3\\new_DATA\\Split_into_train_test\\HT3_3\\4\\my_trojan_data.txt'\n",
    "\n",
    "\n",
    "# Generate train data\n",
    "train_data = load_data(train_file_path, rows = Number_of_train_rows)\n",
    "X_train = np.r_[train_data]\n",
    "n_train_rows, n_train_columns = X_train.shape\n",
    "\n",
    "# Generate some regular novel observations\n",
    "test_data = load_data_test(test_file_path, rows = Number_of_test_rows)\n",
    "X_test = np.r_[test_data]\n",
    "n_test_rows, test_columns = X_test.shape\n",
    "\n",
    "# Generate some abnormal novel observations\n",
    "trojan_data = load_data_test(trojan_file_path, rows = Number_of_test_rows)\n",
    "X_outliers = np.r_[trojan_data]\n",
    "n_outliers_rows, outliers_columns = X_outliers.shape"
   ]
  },
  {
   "cell_type": "code",
   "execution_count": 5,
   "metadata": {
    "scrolled": true
   },
   "outputs": [
    {
     "data": {
      "text/html": [
       "<div>\n",
       "<style scoped>\n",
       "    .dataframe tbody tr th:only-of-type {\n",
       "        vertical-align: middle;\n",
       "    }\n",
       "\n",
       "    .dataframe tbody tr th {\n",
       "        vertical-align: top;\n",
       "    }\n",
       "\n",
       "    .dataframe thead th {\n",
       "        text-align: right;\n",
       "    }\n",
       "</style>\n",
       "<table border=\"1\" class=\"dataframe\">\n",
       "  <thead>\n",
       "    <tr style=\"text-align: right;\">\n",
       "      <th></th>\n",
       "      <th>B1</th>\n",
       "      <th>C1</th>\n",
       "      <th>B2</th>\n",
       "    </tr>\n",
       "  </thead>\n",
       "  <tbody>\n",
       "    <tr>\n",
       "      <td>0</td>\n",
       "      <td>12.0</td>\n",
       "      <td>8.8</td>\n",
       "      <td>34.4</td>\n",
       "    </tr>\n",
       "    <tr>\n",
       "      <td>1</td>\n",
       "      <td>47.2</td>\n",
       "      <td>51.2</td>\n",
       "      <td>5.6</td>\n",
       "    </tr>\n",
       "    <tr>\n",
       "      <td>2</td>\n",
       "      <td>43.2</td>\n",
       "      <td>35.2</td>\n",
       "      <td>8.8</td>\n",
       "    </tr>\n",
       "    <tr>\n",
       "      <td>3</td>\n",
       "      <td>47.2</td>\n",
       "      <td>10.4</td>\n",
       "      <td>8.0</td>\n",
       "    </tr>\n",
       "    <tr>\n",
       "      <td>4</td>\n",
       "      <td>47.2</td>\n",
       "      <td>8.8</td>\n",
       "      <td>32.8</td>\n",
       "    </tr>\n",
       "    <tr>\n",
       "      <td>...</td>\n",
       "      <td>...</td>\n",
       "      <td>...</td>\n",
       "      <td>...</td>\n",
       "    </tr>\n",
       "    <tr>\n",
       "      <td>24995</td>\n",
       "      <td>12.8</td>\n",
       "      <td>10.4</td>\n",
       "      <td>8.0</td>\n",
       "    </tr>\n",
       "    <tr>\n",
       "      <td>24996</td>\n",
       "      <td>47.2</td>\n",
       "      <td>8.0</td>\n",
       "      <td>8.0</td>\n",
       "    </tr>\n",
       "    <tr>\n",
       "      <td>24997</td>\n",
       "      <td>10.4</td>\n",
       "      <td>8.8</td>\n",
       "      <td>6.4</td>\n",
       "    </tr>\n",
       "    <tr>\n",
       "      <td>24998</td>\n",
       "      <td>12.0</td>\n",
       "      <td>38.4</td>\n",
       "      <td>8.8</td>\n",
       "    </tr>\n",
       "    <tr>\n",
       "      <td>24999</td>\n",
       "      <td>47.2</td>\n",
       "      <td>8.0</td>\n",
       "      <td>45.6</td>\n",
       "    </tr>\n",
       "  </tbody>\n",
       "</table>\n",
       "<p>25000 rows × 3 columns</p>\n",
       "</div>"
      ],
      "text/plain": [
       "         B1    C1    B2\n",
       "0      12.0   8.8  34.4\n",
       "1      47.2  51.2   5.6\n",
       "2      43.2  35.2   8.8\n",
       "3      47.2  10.4   8.0\n",
       "4      47.2   8.8  32.8\n",
       "...     ...   ...   ...\n",
       "24995  12.8  10.4   8.0\n",
       "24996  47.2   8.0   8.0\n",
       "24997  10.4   8.8   6.4\n",
       "24998  12.0  38.4   8.8\n",
       "24999  47.2   8.0  45.6\n",
       "\n",
       "[25000 rows x 3 columns]"
      ]
     },
     "execution_count": 5,
     "metadata": {},
     "output_type": "execute_result"
    }
   ],
   "source": [
    "test_data"
   ]
  },
  {
   "cell_type": "markdown",
   "metadata": {},
   "source": [
    "### Quick visualisation of the datapoints"
   ]
  },
  {
   "cell_type": "code",
   "execution_count": 6,
   "metadata": {},
   "outputs": [
    {
     "data": {
      "image/png": "[encoded data removed]",
      "text/plain": [
       "<Figure size 792x792 with 1 Axes>"
      ]
     },
     "metadata": {
      "needs_background": "light"
     },
     "output_type": "display_data"
    }
   ],
   "source": [
    "plt.figure(figsize=(11,11))\n",
    "\n",
    "column1 = 0\n",
    "column2 = 1\n",
    "\n",
    "noHT = plt.scatter(X_test[:, column1], X_test[:, column2], c='green', s=25, edgecolors='green')\n",
    "HT = plt.scatter(X_outliers[:, column1], X_outliers[:, column2], c='red', s=1, edgecolors='red')\n",
    "\n",
    "plt.axis('tight')\n",
    "plt.xlim((0, 105))\n",
    "plt.ylim((0, 85))\n",
    "\n",
    "plt.legend([noHT, HT], [\"Test data (no HT)\", \"Test data (HT)\"], loc=\"upper left\",\n",
    "           prop=matplotlib.font_manager.FontProperties(size=11))\n",
    "\n",
    "# plt.xlabel(\n",
    "#     \"Errors train: %d/%d ; \"\n",
    "#     \"Errors novel regular: %d/%d ; \"\n",
    "#     \"Errors novel abnormal: %d/%d\"\n",
    "#     % (n_error_train, n_train_rows ,n_error_test, n_test_rows, n_error_outliers, n_outliers_rows))\n",
    "plt.xlabel(\"CHIP {}\".format(column1), fontsize='xx-large', fontstyle='oblique', fontweight='bold')\n",
    "plt.ylabel(\"CHIP {}\".format(column2), fontsize='xx-large', fontstyle='oblique', fontweight='bold')\n",
    "\n",
    "plt.show()"
   ]
  },
  {
   "cell_type": "markdown",
   "metadata": {},
   "source": [
    "#### Prepare the data"
   ]
  },
  {
   "cell_type": "code",
   "execution_count": 7,
   "metadata": {},
   "outputs": [
    {
     "name": "stdout",
     "output_type": "stream",
     "text": [
      "Test data manipulation...\n",
      "(25000, 1)   // HT clean test data label shape\n",
      "(25000, 1)   // HT contaminated test data label shape\n",
      "(50000, 1)   // Combined test data label shape\n",
      "\n",
      "(25000, 3)   // HT clean test data feature shape\n",
      "(25000, 3)   // HT contaminated test data feature shape\n",
      "(50000, 4)   // Combined test data (feature + label) shape\n"
     ]
    }
   ],
   "source": [
    "y_test = np.ones((Number_of_test_rows,1), dtype='int')\n",
    "y_outliers = np.negative(np.ones((Number_of_test_rows,1), dtype='int'))\n",
    "y_test_comined = np.vstack((y_test,y_outliers))\n",
    "X_test_comined = np.vstack((X_test,X_outliers))\n",
    "full_test_data = np.hstack((X_test_comined, y_test_comined))\n",
    "np.random.shuffle(full_test_data)\n",
    "y_test_comined = full_test_data[:,-1].reshape(int(Number_of_test_rows*2),1)\n",
    "X_test_comined = full_test_data[:,0:-1]\n",
    "\n",
    "print(\"Test data manipulation...\")\n",
    "print(y_test.shape,'  // HT clean test data label shape')\n",
    "print(y_outliers.shape,'  // HT contaminated test data label shape')\n",
    "print(y_test_comined.shape,'  // Combined test data label shape')\n",
    "print()\n",
    "print(X_test.shape,'  // HT clean test data feature shape')\n",
    "print(X_outliers.shape,'  // HT contaminated test data feature shape')\n",
    "print(full_test_data.shape,'  // Combined test data (feature + label) shape')"
   ]
  },
  {
   "cell_type": "markdown",
   "metadata": {},
   "source": [
    "### Scaling the data..........update: actually worsened the results"
   ]
  },
  {
   "cell_type": "code",
   "execution_count": 8,
   "metadata": {},
   "outputs": [],
   "source": [
    "# from sklearn.preprocessing import MinMaxScaler, StandardScaler\n",
    "# #Scaling\n",
    "# # Column_names = X.columns\n",
    "# scaler = MinMaxScaler()\n",
    "# scaler.fit(X_train)\n",
    "# X_train =scaler.transform(X_train)\n",
    "# X_test_comined = data=scaler.transform(X_test_comined)\n"
   ]
  },
  {
   "cell_type": "markdown",
   "metadata": {},
   "source": [
    "# Train the model"
   ]
  },
  {
   "cell_type": "code",
   "execution_count": 9,
   "metadata": {},
   "outputs": [],
   "source": [
    "# fit the model\n",
    "nu = 0.0001\n",
    "gamma = 0.0010\n",
    "kernel = \"rbf\"\n",
    "\n",
    "clf = svm.OneClassSVM(nu=nu, kernel=kernel, gamma=gamma)\n",
    "clf.fit(X_train)\n",
    "\n",
    "y_pred_train = clf.predict(X_train)\n",
    "y_pred_test = clf.predict(X_test)\n",
    "y_pred_outliers = clf.predict(X_outliers)\n",
    "y_pred_combined = clf.predict(X_test_comined).reshape(-1,1)\n",
    "\n",
    "Precision = precision_score(y_test_comined, y_pred_combined)\n",
    "Recall    = recall_score(y_test_comined, y_pred_combined)\n",
    "F1_score  = f1_score(y_test_comined, y_pred_combined)\n",
    "Accuracy  = accuracy_score(y_test_comined, y_pred_combined)\n",
    "num_of_support_vectors = clf.support_vectors_.shape[0]"
   ]
  },
  {
   "cell_type": "code",
   "execution_count": 10,
   "metadata": {},
   "outputs": [
    {
     "name": "stdout",
     "output_type": "stream",
     "text": [
      "0.0001 0.001\n",
      "0.7143900239094019\n",
      "(17, 3)\n"
     ]
    }
   ],
   "source": [
    "print(nu, gamma)\n",
    "print(F1_score)\n",
    "print(clf.support_vectors_.shape)"
   ]
  },
  {
   "cell_type": "code",
   "execution_count": 11,
   "metadata": {},
   "outputs": [
    {
     "name": "stdout",
     "output_type": "stream",
     "text": [
      "17\n",
      "[17]\n"
     ]
    }
   ],
   "source": [
    "print(clf.support_vectors_.shape[0])\n",
    "print(clf.n_support_)"
   ]
  },
  {
   "cell_type": "code",
   "execution_count": 12,
   "metadata": {},
   "outputs": [],
   "source": [
    "np.savetxt('Support_Vectors.txt', clf.support_vectors_, fmt='%8.2f', delimiter=',')\n",
    "np.savetxt('Dual_coefs.txt', clf.dual_coef_, fmt='%8.5f', delimiter=',')\n",
    "np.savetxt('Intercept.txt', clf.intercept_, fmt='%.7f', delimiter=',')"
   ]
  },
  {
   "cell_type": "code",
   "execution_count": null,
   "metadata": {},
   "outputs": [],
   "source": []
  }
 ],
 "metadata": {
  "kernelspec": {
   "display_name": "Python 3",
   "language": "python",
   "name": "python3"
  },
  "language_info": {
   "codemirror_mode": {
    "name": "ipython",
    "version": 3
   },
   "file_extension": ".py",
   "mimetype": "text/x-python",
   "name": "python",
   "nbconvert_exporter": "python",
   "pygments_lexer": "ipython3",
   "version": "3.7.4"
  }
 },
 "nbformat": 4,
 "nbformat_minor": 2
}
