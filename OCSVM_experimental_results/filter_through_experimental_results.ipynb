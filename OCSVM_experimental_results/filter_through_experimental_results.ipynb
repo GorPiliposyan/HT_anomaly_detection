{
 "cells": [
  {
   "cell_type": "code",
   "execution_count": 1,
   "metadata": {},
   "outputs": [],
   "source": [
    "import pandas as pd\n",
    "import numpy as np\n",
    "from sklearn.metrics import f1_score, precision_score, recall_score"
   ]
  },
  {
   "cell_type": "code",
   "execution_count": 2,
   "metadata": {},
   "outputs": [],
   "source": [
    "def load_data(path, rows = 300000):\n",
    "    \"\"\"\n",
    "    Load the data and remove unnecessary columns\n",
    "\n",
    "    \"\"\"\n",
    "    \n",
    "    data = pd.read_csv(path, header=None, sep=',')\n",
    "#     data = data[:rows]\n",
    "    data.columns = ['i', 'B1', 'C1', 'A2', 'B2', 'C2', \n",
    "                    'ma_B1', 'ma_C1', 'ma_A2', 'ma_B2', 'ma_C2', \n",
    "                    'y_pred', 'BIGsum', 'Agent_1', 'y_label']\n",
    "    data.drop(['i', 'BIGsum'], axis =1, inplace = True)\n",
    "    \n",
    "#     return data[['y_pred', 'Agent_1', 'y_label']]\n",
    "    return data"
   ]
  },
  {
   "cell_type": "code",
   "execution_count": 3,
   "metadata": {},
   "outputs": [],
   "source": [
    "# file_path  = r'C:\\Users\\Gor\\Desktop\\New_experiments\\Important_files-3\\HT_anomaly_detection_GIT\\HT_anomaly_detection\\OCSVM_experimental_results\\Conditionally_activated_HT\\Complete_pow_cons_pattern\\T=50p\\finalPOWCONS_HT=1.8kOhm.txt'\n",
    "# file_path  = r'G:\\POWCONS.txt'\n",
    "file_path  = r'G:\\Conditionally_activated_HT\\Complete_pow_cons_pattern\\HT_c\\T=100p\\POWCONS_HT=1.0kOhm.txt'\n",
    "\n",
    "# Generate train data\n",
    "data = load_data(file_path)"
   ]
  },
  {
   "cell_type": "code",
   "execution_count": 4,
   "metadata": {},
   "outputs": [
    {
     "data": {
      "text/html": [
       "<div>\n",
       "<style scoped>\n",
       "    .dataframe tbody tr th:only-of-type {\n",
       "        vertical-align: middle;\n",
       "    }\n",
       "\n",
       "    .dataframe tbody tr th {\n",
       "        vertical-align: top;\n",
       "    }\n",
       "\n",
       "    .dataframe thead th {\n",
       "        text-align: right;\n",
       "    }\n",
       "</style>\n",
       "<table border=\"1\" class=\"dataframe\">\n",
       "  <thead>\n",
       "    <tr style=\"text-align: right;\">\n",
       "      <th></th>\n",
       "      <th>B1</th>\n",
       "      <th>C1</th>\n",
       "      <th>A2</th>\n",
       "      <th>B2</th>\n",
       "      <th>C2</th>\n",
       "      <th>ma_B1</th>\n",
       "      <th>ma_C1</th>\n",
       "      <th>ma_A2</th>\n",
       "      <th>ma_B2</th>\n",
       "      <th>ma_C2</th>\n",
       "      <th>y_pred</th>\n",
       "      <th>Agent_1</th>\n",
       "      <th>y_label</th>\n",
       "    </tr>\n",
       "  </thead>\n",
       "  <tbody>\n",
       "    <tr>\n",
       "      <td>0</td>\n",
       "      <td>51.0</td>\n",
       "      <td>44.0</td>\n",
       "      <td>251.0</td>\n",
       "      <td>69.0</td>\n",
       "      <td>52.0</td>\n",
       "      <td>10.2</td>\n",
       "      <td>8.8</td>\n",
       "      <td>50.2</td>\n",
       "      <td>13.8</td>\n",
       "      <td>10.4</td>\n",
       "      <td>-1</td>\n",
       "      <td>-1</td>\n",
       "      <td>-1</td>\n",
       "    </tr>\n",
       "    <tr>\n",
       "      <td>1</td>\n",
       "      <td>51.0</td>\n",
       "      <td>33.0</td>\n",
       "      <td>251.0</td>\n",
       "      <td>69.0</td>\n",
       "      <td>49.0</td>\n",
       "      <td>20.4</td>\n",
       "      <td>15.4</td>\n",
       "      <td>100.4</td>\n",
       "      <td>27.6</td>\n",
       "      <td>20.2</td>\n",
       "      <td>-1</td>\n",
       "      <td>-1</td>\n",
       "      <td>-1</td>\n",
       "    </tr>\n",
       "    <tr>\n",
       "      <td>2</td>\n",
       "      <td>49.0</td>\n",
       "      <td>44.0</td>\n",
       "      <td>257.0</td>\n",
       "      <td>66.0</td>\n",
       "      <td>41.0</td>\n",
       "      <td>30.2</td>\n",
       "      <td>24.2</td>\n",
       "      <td>151.8</td>\n",
       "      <td>40.8</td>\n",
       "      <td>28.4</td>\n",
       "      <td>-1</td>\n",
       "      <td>-1</td>\n",
       "      <td>-1</td>\n",
       "    </tr>\n",
       "    <tr>\n",
       "      <td>3</td>\n",
       "      <td>48.0</td>\n",
       "      <td>39.0</td>\n",
       "      <td>254.0</td>\n",
       "      <td>64.0</td>\n",
       "      <td>44.0</td>\n",
       "      <td>39.8</td>\n",
       "      <td>32.0</td>\n",
       "      <td>202.6</td>\n",
       "      <td>53.6</td>\n",
       "      <td>37.2</td>\n",
       "      <td>-1</td>\n",
       "      <td>-1</td>\n",
       "      <td>-1</td>\n",
       "    </tr>\n",
       "    <tr>\n",
       "      <td>4</td>\n",
       "      <td>49.0</td>\n",
       "      <td>39.0</td>\n",
       "      <td>257.0</td>\n",
       "      <td>64.0</td>\n",
       "      <td>39.0</td>\n",
       "      <td>49.6</td>\n",
       "      <td>39.8</td>\n",
       "      <td>254.0</td>\n",
       "      <td>66.4</td>\n",
       "      <td>45.0</td>\n",
       "      <td>-1</td>\n",
       "      <td>-1</td>\n",
       "      <td>-1</td>\n",
       "    </tr>\n",
       "    <tr>\n",
       "      <td>...</td>\n",
       "      <td>...</td>\n",
       "      <td>...</td>\n",
       "      <td>...</td>\n",
       "      <td>...</td>\n",
       "      <td>...</td>\n",
       "      <td>...</td>\n",
       "      <td>...</td>\n",
       "      <td>...</td>\n",
       "      <td>...</td>\n",
       "      <td>...</td>\n",
       "      <td>...</td>\n",
       "      <td>...</td>\n",
       "      <td>...</td>\n",
       "    </tr>\n",
       "    <tr>\n",
       "      <td>81945</td>\n",
       "      <td>44.0</td>\n",
       "      <td>38.0</td>\n",
       "      <td>262.0</td>\n",
       "      <td>8.0</td>\n",
       "      <td>41.0</td>\n",
       "      <td>43.4</td>\n",
       "      <td>35.2</td>\n",
       "      <td>259.2</td>\n",
       "      <td>7.8</td>\n",
       "      <td>35.4</td>\n",
       "      <td>1</td>\n",
       "      <td>1</td>\n",
       "      <td>1</td>\n",
       "    </tr>\n",
       "    <tr>\n",
       "      <td>81946</td>\n",
       "      <td>43.0</td>\n",
       "      <td>36.0</td>\n",
       "      <td>261.0</td>\n",
       "      <td>8.0</td>\n",
       "      <td>41.0</td>\n",
       "      <td>43.2</td>\n",
       "      <td>35.8</td>\n",
       "      <td>260.0</td>\n",
       "      <td>7.8</td>\n",
       "      <td>38.4</td>\n",
       "      <td>1</td>\n",
       "      <td>1</td>\n",
       "      <td>1</td>\n",
       "    </tr>\n",
       "    <tr>\n",
       "      <td>81947</td>\n",
       "      <td>44.0</td>\n",
       "      <td>36.0</td>\n",
       "      <td>261.0</td>\n",
       "      <td>8.0</td>\n",
       "      <td>29.0</td>\n",
       "      <td>43.8</td>\n",
       "      <td>35.8</td>\n",
       "      <td>260.4</td>\n",
       "      <td>7.8</td>\n",
       "      <td>36.0</td>\n",
       "      <td>1</td>\n",
       "      <td>1</td>\n",
       "      <td>1</td>\n",
       "    </tr>\n",
       "    <tr>\n",
       "      <td>81948</td>\n",
       "      <td>44.0</td>\n",
       "      <td>38.0</td>\n",
       "      <td>261.0</td>\n",
       "      <td>10.0</td>\n",
       "      <td>29.0</td>\n",
       "      <td>43.8</td>\n",
       "      <td>36.8</td>\n",
       "      <td>260.8</td>\n",
       "      <td>8.2</td>\n",
       "      <td>33.2</td>\n",
       "      <td>1</td>\n",
       "      <td>1</td>\n",
       "      <td>1</td>\n",
       "    </tr>\n",
       "    <tr>\n",
       "      <td>81949</td>\n",
       "      <td>43.0</td>\n",
       "      <td>36.0</td>\n",
       "      <td>259.0</td>\n",
       "      <td>7.0</td>\n",
       "      <td>41.0</td>\n",
       "      <td>43.6</td>\n",
       "      <td>36.8</td>\n",
       "      <td>260.8</td>\n",
       "      <td>8.2</td>\n",
       "      <td>36.2</td>\n",
       "      <td>1</td>\n",
       "      <td>1</td>\n",
       "      <td>1</td>\n",
       "    </tr>\n",
       "  </tbody>\n",
       "</table>\n",
       "<p>81950 rows × 13 columns</p>\n",
       "</div>"
      ],
      "text/plain": [
       "         B1    C1     A2    B2    C2  ma_B1  ma_C1  ma_A2  ma_B2  ma_C2  \\\n",
       "0      51.0  44.0  251.0  69.0  52.0   10.2    8.8   50.2   13.8   10.4   \n",
       "1      51.0  33.0  251.0  69.0  49.0   20.4   15.4  100.4   27.6   20.2   \n",
       "2      49.0  44.0  257.0  66.0  41.0   30.2   24.2  151.8   40.8   28.4   \n",
       "3      48.0  39.0  254.0  64.0  44.0   39.8   32.0  202.6   53.6   37.2   \n",
       "4      49.0  39.0  257.0  64.0  39.0   49.6   39.8  254.0   66.4   45.0   \n",
       "...     ...   ...    ...   ...   ...    ...    ...    ...    ...    ...   \n",
       "81945  44.0  38.0  262.0   8.0  41.0   43.4   35.2  259.2    7.8   35.4   \n",
       "81946  43.0  36.0  261.0   8.0  41.0   43.2   35.8  260.0    7.8   38.4   \n",
       "81947  44.0  36.0  261.0   8.0  29.0   43.8   35.8  260.4    7.8   36.0   \n",
       "81948  44.0  38.0  261.0  10.0  29.0   43.8   36.8  260.8    8.2   33.2   \n",
       "81949  43.0  36.0  259.0   7.0  41.0   43.6   36.8  260.8    8.2   36.2   \n",
       "\n",
       "       y_pred  Agent_1  y_label  \n",
       "0          -1       -1       -1  \n",
       "1          -1       -1       -1  \n",
       "2          -1       -1       -1  \n",
       "3          -1       -1       -1  \n",
       "4          -1       -1       -1  \n",
       "...       ...      ...      ...  \n",
       "81945       1        1        1  \n",
       "81946       1        1        1  \n",
       "81947       1        1        1  \n",
       "81948       1        1        1  \n",
       "81949       1        1        1  \n",
       "\n",
       "[81950 rows x 13 columns]"
      ]
     },
     "execution_count": 4,
     "metadata": {},
     "output_type": "execute_result"
    }
   ],
   "source": [
    "data"
   ]
  },
  {
   "cell_type": "code",
   "execution_count": 5,
   "metadata": {},
   "outputs": [],
   "source": [
    "simple_f1 = f1_score(data['y_label'], data['y_pred'])\n",
    "simple_precision = precision_score(data['y_label'], data['y_pred'])\n",
    "simple_recall    = recall_score(data['y_label'], data['y_pred'])\n",
    "\n",
    "agent_f1 = f1_score(data['y_label'], data['Agent_1'])\n",
    "agent_precision = precision_score(data['y_label'], data['Agent_1'])\n",
    "agent_recall    = recall_score(data['y_label'], data['Agent_1'])"
   ]
  },
  {
   "cell_type": "code",
   "execution_count": 6,
   "metadata": {},
   "outputs": [
    {
     "name": "stdout",
     "output_type": "stream",
     "text": [
      "0.9129973193194788 0.9998546680618533 0.84002442002442\n"
     ]
    }
   ],
   "source": [
    "print(simple_f1, simple_precision, simple_recall)"
   ]
  },
  {
   "cell_type": "code",
   "execution_count": 7,
   "metadata": {},
   "outputs": [
    {
     "name": "stdout",
     "output_type": "stream",
     "text": [
      "0.9347481056727421 0.9821668728818118 0.8916971916971917\n"
     ]
    }
   ],
   "source": [
    "print(agent_f1, agent_precision, agent_recall)"
   ]
  },
  {
   "cell_type": "code",
   "execution_count": 8,
   "metadata": {},
   "outputs": [
    {
     "data": {
      "text/plain": [
       "array([[69., -1., -1., -1.],\n",
       "       [69., -1., -1., -1.],\n",
       "       [66., -1., -1., -1.],\n",
       "       [64., -1., -1., -1.],\n",
       "       [64., -1., -1., -1.],\n",
       "       [59., -1., -1., -1.],\n",
       "       [61., -1., -1., -1.],\n",
       "       [59., -1., -1., -1.],\n",
       "       [56., -1., -1., -1.],\n",
       "       [54., -1., -1., -1.]])"
      ]
     },
     "execution_count": 8,
     "metadata": {},
     "output_type": "execute_result"
    }
   ],
   "source": [
    "# df = data[['ma_B2','y_pred', 'Agent_1', 'y_label']].to_numpy()\n",
    "df = data[['B2','y_pred', 'Agent_1', 'y_label']].to_numpy()\n",
    "df[0:10]"
   ]
  },
  {
   "cell_type": "code",
   "execution_count": 9,
   "metadata": {},
   "outputs": [],
   "source": [
    "noHT_indeces = df[:, 3] == 1\n",
    "HT_indeces = df[:, 3] == -1"
   ]
  },
  {
   "cell_type": "code",
   "execution_count": 10,
   "metadata": {},
   "outputs": [
    {
     "name": "stdout",
     "output_type": "stream",
     "text": [
      "Pcontam =  39.36529268292683\n"
     ]
    }
   ],
   "source": [
    "Pcontam = np.mean(df[HT_indeces, 0])\n",
    "print(\"Pcontam = \", Pcontam)"
   ]
  },
  {
   "cell_type": "code",
   "execution_count": 11,
   "metadata": {},
   "outputs": [
    {
     "name": "stdout",
     "output_type": "stream",
     "text": [
      "Pclean =  21.984322344322344\n"
     ]
    }
   ],
   "source": [
    "Pclean = np.mean(df[noHT_indeces, 0])\n",
    "print(\"Pclean = \", Pclean)"
   ]
  },
  {
   "cell_type": "code",
   "execution_count": 12,
   "metadata": {},
   "outputs": [
    {
     "data": {
      "text/plain": [
       "17.380970338604484"
      ]
     },
     "execution_count": 12,
     "metadata": {},
     "output_type": "execute_result"
    }
   ],
   "source": [
    "Pcontam - Pclean"
   ]
  },
  {
   "cell_type": "code",
   "execution_count": null,
   "metadata": {},
   "outputs": [],
   "source": []
  },
  {
   "cell_type": "code",
   "execution_count": null,
   "metadata": {},
   "outputs": [],
   "source": []
  }
 ],
 "metadata": {
  "kernelspec": {
   "display_name": "Python 3",
   "language": "python",
   "name": "python3"
  },
  "language_info": {
   "codemirror_mode": {
    "name": "ipython",
    "version": 3
   },
   "file_extension": ".py",
   "mimetype": "text/x-python",
   "name": "python",
   "nbconvert_exporter": "python",
   "pygments_lexer": "ipython3",
   "version": "3.7.4"
  }
 },
 "nbformat": 4,
 "nbformat_minor": 2
}
